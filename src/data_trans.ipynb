{
 "cells": [
  {
   "cell_type": "markdown",
   "id": "b7c958c3",
   "metadata": {},
   "source": [
    "This notebook was used to see how we need to clean up our dataset"
   ]
  },
  {
   "cell_type": "code",
   "execution_count": 133,
   "id": "114420ad",
   "metadata": {},
   "outputs": [],
   "source": [
    "import pandas as pd"
   ]
  },
  {
   "cell_type": "code",
   "execution_count": 134,
   "id": "f6997902",
   "metadata": {},
   "outputs": [],
   "source": [
    "df = pd.read_csv('../data/spotify_songs.csv')"
   ]
  },
  {
   "cell_type": "code",
   "execution_count": 135,
   "id": "54b80656",
   "metadata": {},
   "outputs": [
    {
     "name": "stdout",
     "output_type": "stream",
     "text": [
      "Duplicate entries by name + artist: 4477\n"
     ]
    }
   ],
   "source": [
    "duplicate_count = df.duplicated(subset=['track_id']).sum()\n",
    "print(f\"Duplicate entries by name + artist: {duplicate_count}\")"
   ]
  },
  {
   "cell_type": "code",
   "execution_count": 136,
   "id": "a312c32f",
   "metadata": {},
   "outputs": [],
   "source": [
    "df = df.drop_duplicates(subset=[\"track_id\"]).reset_index(drop=True)"
   ]
  },
  {
   "cell_type": "code",
   "execution_count": 137,
   "id": "48a758fa",
   "metadata": {},
   "outputs": [],
   "source": [
    "df = df.dropna(subset=[\"track_popularity\", \"track_name\", \"track_artist\"])"
   ]
  },
  {
   "cell_type": "code",
   "execution_count": 138,
   "id": "349e4b03",
   "metadata": {},
   "outputs": [],
   "source": [
    "df = df.drop(columns=['track_id', 'track_album_id', 'track_album_name', 'playlist_id',\\\n",
    "                      'duration_ms', 'key', 'mode', 'loudness', 'liveness'])"
   ]
  },
  {
   "cell_type": "code",
   "execution_count": 139,
   "id": "f906e477",
   "metadata": {},
   "outputs": [
    {
     "data": {
      "text/plain": [
       "track_name                  28352\n",
       "track_artist                28352\n",
       "track_popularity            28352\n",
       "track_album_release_date    28352\n",
       "playlist_name               28352\n",
       "playlist_genre              28352\n",
       "playlist_subgenre           28352\n",
       "danceability                28352\n",
       "energy                      28352\n",
       "speechiness                 28352\n",
       "acousticness                28352\n",
       "instrumentalness            28352\n",
       "valence                     28352\n",
       "tempo                       28352\n",
       "dtype: int64"
      ]
     },
     "execution_count": 139,
     "metadata": {},
     "output_type": "execute_result"
    }
   ],
   "source": [
    "df.count()"
   ]
  },
  {
   "cell_type": "code",
   "execution_count": 140,
   "id": "3299eaf4",
   "metadata": {},
   "outputs": [
    {
     "data": {
      "text/html": [
       "<div>\n",
       "<style scoped>\n",
       "    .dataframe tbody tr th:only-of-type {\n",
       "        vertical-align: middle;\n",
       "    }\n",
       "\n",
       "    .dataframe tbody tr th {\n",
       "        vertical-align: top;\n",
       "    }\n",
       "\n",
       "    .dataframe thead th {\n",
       "        text-align: right;\n",
       "    }\n",
       "</style>\n",
       "<table border=\"1\" class=\"dataframe\">\n",
       "  <thead>\n",
       "    <tr style=\"text-align: right;\">\n",
       "      <th></th>\n",
       "      <th>track_name</th>\n",
       "      <th>track_artist</th>\n",
       "      <th>track_popularity</th>\n",
       "      <th>track_album_release_date</th>\n",
       "      <th>playlist_name</th>\n",
       "      <th>playlist_genre</th>\n",
       "      <th>playlist_subgenre</th>\n",
       "      <th>danceability</th>\n",
       "      <th>energy</th>\n",
       "      <th>speechiness</th>\n",
       "      <th>acousticness</th>\n",
       "      <th>instrumentalness</th>\n",
       "      <th>valence</th>\n",
       "      <th>tempo</th>\n",
       "    </tr>\n",
       "  </thead>\n",
       "  <tbody>\n",
       "    <tr>\n",
       "      <th>0</th>\n",
       "      <td>I Don't Care (with Justin Bieber) - Loud Luxur...</td>\n",
       "      <td>Ed Sheeran</td>\n",
       "      <td>66</td>\n",
       "      <td>2019-06-14</td>\n",
       "      <td>Pop Remix</td>\n",
       "      <td>pop</td>\n",
       "      <td>dance pop</td>\n",
       "      <td>0.748</td>\n",
       "      <td>0.916</td>\n",
       "      <td>0.0583</td>\n",
       "      <td>0.1020</td>\n",
       "      <td>0.000000</td>\n",
       "      <td>0.518</td>\n",
       "      <td>122.036</td>\n",
       "    </tr>\n",
       "    <tr>\n",
       "      <th>1</th>\n",
       "      <td>Memories - Dillon Francis Remix</td>\n",
       "      <td>Maroon 5</td>\n",
       "      <td>67</td>\n",
       "      <td>2019-12-13</td>\n",
       "      <td>Pop Remix</td>\n",
       "      <td>pop</td>\n",
       "      <td>dance pop</td>\n",
       "      <td>0.726</td>\n",
       "      <td>0.815</td>\n",
       "      <td>0.0373</td>\n",
       "      <td>0.0724</td>\n",
       "      <td>0.004210</td>\n",
       "      <td>0.693</td>\n",
       "      <td>99.972</td>\n",
       "    </tr>\n",
       "    <tr>\n",
       "      <th>2</th>\n",
       "      <td>All the Time - Don Diablo Remix</td>\n",
       "      <td>Zara Larsson</td>\n",
       "      <td>70</td>\n",
       "      <td>2019-07-05</td>\n",
       "      <td>Pop Remix</td>\n",
       "      <td>pop</td>\n",
       "      <td>dance pop</td>\n",
       "      <td>0.675</td>\n",
       "      <td>0.931</td>\n",
       "      <td>0.0742</td>\n",
       "      <td>0.0794</td>\n",
       "      <td>0.000023</td>\n",
       "      <td>0.613</td>\n",
       "      <td>124.008</td>\n",
       "    </tr>\n",
       "    <tr>\n",
       "      <th>3</th>\n",
       "      <td>Call You Mine - Keanu Silva Remix</td>\n",
       "      <td>The Chainsmokers</td>\n",
       "      <td>60</td>\n",
       "      <td>2019-07-19</td>\n",
       "      <td>Pop Remix</td>\n",
       "      <td>pop</td>\n",
       "      <td>dance pop</td>\n",
       "      <td>0.718</td>\n",
       "      <td>0.930</td>\n",
       "      <td>0.1020</td>\n",
       "      <td>0.0287</td>\n",
       "      <td>0.000009</td>\n",
       "      <td>0.277</td>\n",
       "      <td>121.956</td>\n",
       "    </tr>\n",
       "    <tr>\n",
       "      <th>4</th>\n",
       "      <td>Someone You Loved - Future Humans Remix</td>\n",
       "      <td>Lewis Capaldi</td>\n",
       "      <td>69</td>\n",
       "      <td>2019-03-05</td>\n",
       "      <td>Pop Remix</td>\n",
       "      <td>pop</td>\n",
       "      <td>dance pop</td>\n",
       "      <td>0.650</td>\n",
       "      <td>0.833</td>\n",
       "      <td>0.0359</td>\n",
       "      <td>0.0803</td>\n",
       "      <td>0.000000</td>\n",
       "      <td>0.725</td>\n",
       "      <td>123.976</td>\n",
       "    </tr>\n",
       "  </tbody>\n",
       "</table>\n",
       "</div>"
      ],
      "text/plain": [
       "                                          track_name      track_artist  \\\n",
       "0  I Don't Care (with Justin Bieber) - Loud Luxur...        Ed Sheeran   \n",
       "1                    Memories - Dillon Francis Remix          Maroon 5   \n",
       "2                    All the Time - Don Diablo Remix      Zara Larsson   \n",
       "3                  Call You Mine - Keanu Silva Remix  The Chainsmokers   \n",
       "4            Someone You Loved - Future Humans Remix     Lewis Capaldi   \n",
       "\n",
       "   track_popularity track_album_release_date playlist_name playlist_genre  \\\n",
       "0                66               2019-06-14     Pop Remix            pop   \n",
       "1                67               2019-12-13     Pop Remix            pop   \n",
       "2                70               2019-07-05     Pop Remix            pop   \n",
       "3                60               2019-07-19     Pop Remix            pop   \n",
       "4                69               2019-03-05     Pop Remix            pop   \n",
       "\n",
       "  playlist_subgenre  danceability  energy  speechiness  acousticness  \\\n",
       "0         dance pop         0.748   0.916       0.0583        0.1020   \n",
       "1         dance pop         0.726   0.815       0.0373        0.0724   \n",
       "2         dance pop         0.675   0.931       0.0742        0.0794   \n",
       "3         dance pop         0.718   0.930       0.1020        0.0287   \n",
       "4         dance pop         0.650   0.833       0.0359        0.0803   \n",
       "\n",
       "   instrumentalness  valence    tempo  \n",
       "0          0.000000    0.518  122.036  \n",
       "1          0.004210    0.693   99.972  \n",
       "2          0.000023    0.613  124.008  \n",
       "3          0.000009    0.277  121.956  \n",
       "4          0.000000    0.725  123.976  "
      ]
     },
     "execution_count": 140,
     "metadata": {},
     "output_type": "execute_result"
    }
   ],
   "source": [
    "df.head()"
   ]
  },
  {
   "cell_type": "code",
   "execution_count": null,
   "id": "bba401b3",
   "metadata": {},
   "outputs": [],
   "source": []
  }
 ],
 "metadata": {
  "kernelspec": {
   "display_name": ".venv",
   "language": "python",
   "name": "python3"
  },
  "language_info": {
   "codemirror_mode": {
    "name": "ipython",
    "version": 3
   },
   "file_extension": ".py",
   "mimetype": "text/x-python",
   "name": "python",
   "nbconvert_exporter": "python",
   "pygments_lexer": "ipython3",
   "version": "3.12.3"
  }
 },
 "nbformat": 4,
 "nbformat_minor": 5
}
